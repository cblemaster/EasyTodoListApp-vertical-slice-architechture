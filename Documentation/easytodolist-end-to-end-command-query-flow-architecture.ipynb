{
 "cells": [
  {
   "cell_type": "code",
   "execution_count": null,
   "metadata": {
    "dotnet_interactive": {
     "language": "mermaid"
    },
    "polyglot_notebook": {
     "kernelName": "mermaid"
    }
   },
   "outputs": [
    {
     "data": {
      "text/html": [
       "<div class=\"mermaidMarkdownContainer\" style=\"background-color:white\">\r\n",
       "<link rel=\"stylesheet\" href=\"https://cdnjs.cloudflare.com/ajax/libs/font-awesome/6.2.0/css/all.min.css\">\r\n",
       "<div id=\"4a7866da318542b2bf6e4cdc2dcde692\"></div>\r\n",
       "<script type=\"module\">\r\n",
       "\r\n",
       "            import mermaid from 'https://cdn.jsdelivr.net/npm/mermaid@10.6.1/dist/mermaid.esm.min.mjs';\r\n",
       "            let renderTarget = document.getElementById('4a7866da318542b2bf6e4cdc2dcde692');\r\n",
       "            try {\r\n",
       "                const {svg, bindFunctions} = await mermaid.mermaidAPI.render( \r\n",
       "                    'mermaid_4a7866da318542b2bf6e4cdc2dcde692', \r\n",
       "                    `---\r\n",
       "title: End to end command-query flow\r\n",
       "---\r\n",
       "flowchart LR\r\n",
       "    subgraph be[back end]\r\n",
       "        direction TB\r\n",
       "        subgraph ap[ASP.NET]\r\n",
       "            cd<--http-->cr[Controller<br/><br/>endpoint actions]            \r\n",
       "        end\r\n",
       "        subgraph md[MediatR]\r\n",
       "            rq[request]--controller calls<br/>with request-->hn[handler<br/><br/>business logic<br/>validation]--creates-->rp[response]--method<br/>return-->cr\r\n",
       "        end\r\n",
       "        subgraph dt[data access]\r\n",
       "            ir[IRepository]--method<br/>calls-->dx[EF db context]--method<br/>returns-->ir\r\n",
       "            db[database]<--EF data<br/>provider-->dx\r\n",
       "            ir-.DI.->hn\r\n",
       "            dx-.DI.->ir\r\n",
       "            hn--method<br/>calls-->ir--method<br/>returns-->hn\r\n",
       "        end\r\n",
       "        md-.DI.->cr\r\n",
       "        cr--creates or<br/>passes in-->rq\r\n",
       "    end\r\n",
       "    subgraph fe[front end]\r\n",
       "        subgraph ui[UI]\r\n",
       "            ct[control]<--databinding-->vm[view model<br/><br/>relay command]-.DI.->ct\r\n",
       "        end\r\n",
       "        subgraph cd[Client side<br/>data service]\r\n",
       "        end\r\n",
       "        vm--method<br/>calls-->cd\r\n",
       "        cd--method<br/>returns-->vm\r\n",
       "    end`);\r\n",
       "                renderTarget.innerHTML = svg;\r\n",
       "                bindFunctions?.(renderTarget);\r\n",
       "            }\r\n",
       "            catch (error) {\r\n",
       "                console.log(error);\r\n",
       "            }\r\n",
       "</script>\r\n",
       "</div>\r\n"
      ]
     },
     "metadata": {},
     "output_type": "display_data"
    }
   ],
   "source": [
    "---\n",
    "title: End to end command-query flow\n",
    "---\n",
    "flowchart LR\n",
    "    subgraph be[back end]\n",
    "        direction TB\n",
    "        subgraph ap[ASP.NET]\n",
    "            cd<--http-->cr[Controller<br/><br/>endpoint actions]            \n",
    "        end\n",
    "        subgraph md[MediatR]\n",
    "            rq[request]--controller calls<br/>with request-->hn[handler<br/><br/>business logic<br/>validation]--creates-->rp[response]--method<br/>return-->cr\n",
    "        end\n",
    "        subgraph dt[data access]\n",
    "            ir[IRepository]--method<br/>calls-->dx[EF db context]--method<br/>returns-->ir\n",
    "            db[database]<--EF data<br/>provider-->dx\n",
    "            ir-.DI.->hn\n",
    "            dx-.DI.->ir\n",
    "            hn--method<br/>calls-->ir--method<br/>returns-->hn\n",
    "        end\n",
    "        md-.DI.->cr\n",
    "        cr--creates or<br/>passes in-->rq\n",
    "    end\n",
    "    subgraph fe[front end]\n",
    "        subgraph ui[UI]\n",
    "            ct[control]<--databinding-->vm[view model<br/><br/>relay command]-.DI.->ct\n",
    "        end\n",
    "        subgraph cd[Client side<br/>data service]\n",
    "        end\n",
    "        vm--method<br/>calls-->cd\n",
    "        cd--method<br/>returns-->vm\n",
    "    end"
   ]
  }
 ],
 "metadata": {
  "kernelspec": {
   "display_name": ".NET (C#)",
   "language": "C#",
   "name": ".net-csharp"
  },
  "polyglot_notebook": {
   "kernelInfo": {
    "defaultKernelName": "csharp",
    "items": [
     {
      "aliases": [],
      "name": "csharp"
     }
    ]
   }
  }
 },
 "nbformat": 4,
 "nbformat_minor": 2
}
