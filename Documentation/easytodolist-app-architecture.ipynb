{
 "cells": [
  {
   "cell_type": "code",
   "execution_count": null,
   "metadata": {
    "dotnet_interactive": {
     "language": "mermaid"
    },
    "polyglot_notebook": {
     "kernelName": "mermaid"
    }
   },
   "outputs": [
    {
     "data": {
      "text/html": [
       "<div class=\"mermaidMarkdownContainer\" style=\"background-color:white\">\r\n",
       "<link rel=\"stylesheet\" href=\"https://cdnjs.cloudflare.com/ajax/libs/font-awesome/6.2.0/css/all.min.css\">\r\n",
       "<div id=\"c5033730c2524767819000df221b5a0d\"></div>\r\n",
       "<script type=\"module\">\r\n",
       "\r\n",
       "            import mermaid from 'https://cdn.jsdelivr.net/npm/mermaid@10.6.1/dist/mermaid.esm.min.mjs';\r\n",
       "            let renderTarget = document.getElementById('c5033730c2524767819000df221b5a0d');\r\n",
       "            try {\r\n",
       "                const {svg, bindFunctions} = await mermaid.mermaidAPI.render( \r\n",
       "                    'mermaid_c5033730c2524767819000df221b5a0d', \r\n",
       "                    `---\n",
       "title: EasyTodoListApp architechture\n",
       "---\n",
       "\n",
       "flowchart TB\n",
       "    ui[User triggers command<br />or query from UI]\n",
       "    subgraph a[API]\n",
       "        subgraph as[\"ASP.NET\"]\n",
       "            tc[\"TodosController<br />(action endpoints)\"]\n",
       "            p[\"Program.cs<br />(web app config)\"]\n",
       "        end\n",
       "        subgraph uc[Use Cases]\n",
       "            subgraph m[MediatR]\n",
       "                rq[\"Requests<br />(commands and queries)\"]\n",
       "                rq-->h[\"Handlers<br />(business logic)\"]-->rs[Responses]\n",
       "            end\n",
       "        end        \n",
       "        tc<-->m\n",
       "    end\n",
       "    ui--http-->tc\n",
       "    subgraph d[Domain]\n",
       "        direction TB\n",
       "        eb[Entity base]--inherits from-->te[Todo entity]\n",
       "        vo[Value objects]--implements-->te\n",
       "    end\n",
       "    subgraph i[Infrastructure]\n",
       "        dc[EasyTodoListAppDbContext]\n",
       "        ir[ITodoRepository]<-->h\n",
       "        ir<--ef core-->dc\n",
       "    end\n",
       "    dc<--db provider-->Database\n",
       "    d-->i\n",
       "    d-->a\n",
       "`);\r\n",
       "                renderTarget.innerHTML = svg;\r\n",
       "                bindFunctions?.(renderTarget);\r\n",
       "            }\r\n",
       "            catch (error) {\r\n",
       "                console.log(error);\r\n",
       "            }\r\n",
       "</script>\r\n",
       "</div>\r\n"
      ]
     },
     "metadata": {},
     "output_type": "display_data"
    }
   ],
   "source": [
    "---\n",
    "title: EasyTodoListApp architechture\n",
    "---\n",
    "\n",
    "flowchart TB\n",
    "    ui[User triggers command<br />or query from UI]\n",
    "    subgraph a[API]\n",
    "        subgraph as[\"ASP.NET\"]\n",
    "            tc[\"TodosController<br />(action endpoints)\"]\n",
    "            p[\"Program.cs<br />(web app config)\"]\n",
    "        end\n",
    "        subgraph uc[Use Cases]\n",
    "            subgraph m[MediatR]\n",
    "                rq[\"Requests<br />(commands and queries)\"]\n",
    "                rq-->h[\"Handlers<br />(business logic)\"]-->rs[Responses]\n",
    "            end\n",
    "        end        \n",
    "        tc<-->m\n",
    "    end\n",
    "    ui--http-->tc\n",
    "    subgraph d[Domain]\n",
    "        direction TB\n",
    "        eb[Entity base]--inherits from-->te[Todo entity]\n",
    "        vo[Value objects]--implements-->te\n",
    "    end\n",
    "    subgraph i[Infrastructure]\n",
    "        dc[EasyTodoListAppDbContext]\n",
    "        ir[ITodoRepository]<-->h\n",
    "        ir<--ef core-->dc\n",
    "    end\n",
    "    dc<--db provider-->Database\n",
    "    d-->i\n",
    "    d-->a\n"
   ]
  }
 ],
 "metadata": {
  "kernelspec": {
   "display_name": ".NET (C#)",
   "language": "C#",
   "name": ".net-csharp"
  },
  "polyglot_notebook": {
   "kernelInfo": {
    "defaultKernelName": "csharp",
    "items": [
     {
      "aliases": [],
      "name": "csharp"
     }
    ]
   }
  }
 },
 "nbformat": 4,
 "nbformat_minor": 2
}
